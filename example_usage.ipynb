{
 "cells": [
  {
   "cell_type": "markdown",
   "metadata": {},
   "source": [
    "# Test the implementation of Abdeladim_2023 Imaging Interface on mouseV1 data"
   ]
  },
  {
   "cell_type": "code",
   "execution_count": 3,
   "metadata": {},
   "outputs": [],
   "source": [
    "from pathlib import Path\n",
    "from src.mousev1_to_nwb.abdeladim_2023.abdeladim_2023imaginginterface import Abdeladim2023SinglePlaneImagingInterface\n",
    "\n",
    "root_path = Path(f\"/media/amtra/Samsung_T5/CN_data/MouseV1-to-nwb\")\n",
    "session_id = \"7expt\"  # \"2ret\",\"3ori\",\"4ori\",\"5stim\",\"6stim\",\"7expt\"\n",
    "imaging_path = root_path / \"raw-tiffs\" / session_id"
   ]
  },
  {
   "cell_type": "code",
   "execution_count": 4,
   "metadata": {},
   "outputs": [],
   "source": [
    "channel = \"Channel 1\" #\"Channel 2\"\n",
    "plane = \"0\" # \"1\",\"2\"\n",
    "interface = Abdeladim2023SinglePlaneImagingInterface(\n",
    "    folder_path=imaging_path, channel_name=channel, plane_name=plane\n",
    ")\n",
    "image_metadata = interface.get_metadata()\n",
    "image_metadata"
   ]
  }
 ],
 "metadata": {
  "kernelspec": {
   "display_name": "mousev1_lab_to_nwb_env",
   "language": "python",
   "name": "python3"
  },
  "language_info": {
   "codemirror_mode": {
    "name": "ipython",
    "version": 3
   },
   "file_extension": ".py",
   "mimetype": "text/x-python",
   "name": "python",
   "nbconvert_exporter": "python",
   "pygments_lexer": "ipython3",
   "version": "3.10.12"
  }
 },
 "nbformat": 4,
 "nbformat_minor": 2
}
