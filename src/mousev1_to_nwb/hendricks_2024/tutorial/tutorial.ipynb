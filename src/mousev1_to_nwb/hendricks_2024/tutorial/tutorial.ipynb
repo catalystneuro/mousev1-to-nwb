{
 "cells": [
  {
   "cell_type": "markdown",
   "id": "6242b563-faf9-411b-b61e-ff6d5d802609",
   "metadata": {},
   "source": [
    "# Tutorial for 2-photon calcium imaging and holographic optical stimulation dataset.\n",
    "\n",
    "This tutorial shows how to access the *Two Photon dataset* using `pynwb`. \n",
    "\n",
    "This dataset contains the 2-photon calcium imaging holographic stimulation data and visual stimuli events.\n",
    "\n",
    "Contents:\n",
    "\n",
    "- [Reading an NWB file](#read-nwb)\n",
    "- [Access subject and task metadata](#access-subject)\n",
    "- [Access Imaging](#access-imaging)\n",
    "- [Access Holographic Stimulus](#access-holostim)\n",
    "- [Access Visual Stimulus](#access-visualstim)\n",
    "\n",
    "A schematic representation where the source data is saved in NWB:\n",
    "\n",
    "![Alt text](./conversion_outline_diagram.png)"
   ]
  },
  {
   "cell_type": "markdown",
   "id": "6bc8942c-2b51-4bd9-9e87-51cdd58f25ef",
   "metadata": {},
   "source": [
    "# Reading an NWB file <a name=\"read-nwb\"></a>\n",
    "\n",
    "This section demonstrates how to read an NWB file using `pynwb`.\n",
    "\n",
    "Based on the [NWB File Basics](https://pynwb.readthedocs.io/en/stable/tutorials/general/plot_file.html#sphx-glr-tutorials-general-plot-file-py) tutorial from [PyNWB](https://pynwb.readthedocs.io/en/stable/#).\n",
    "\n",
    "An [NWBFile](https://pynwb.readthedocs.io/en/stable/pynwb.file.html#pynwb.file.NWBFile) represents a single session of an experiment. Each NWBFile must have a `session description`, `identifier`, and `session start time`.\n",
    "\n",
    "Reading is carried out using the [NWBHDF5IO](https://pynwb.readthedocs.io/en/stable/pynwb.html#pynwb.NWBHDF5IO) class. To read the NWB file use the read mode (\"r\") to retrieve an NWBFile object.\n"
   ]
  },
  {
   "cell_type": "code",
   "execution_count": null,
   "id": "b2968627-3cdd-4c65-825c-4e239cf9a5ea",
   "metadata": {},
   "outputs": [],
   "source": [
    "from pynwb import NWBHDF5IO\n",
    "# Choose which epoch to explore\n",
    "epoch_name = \"5stim\"\n",
    "session_id = \"w57-1-2023119\"\n",
    "# The file path to a .nwb file\n",
    "nwbfile_path = f\"/media/amtra/Samsung_T5/CN_data/MouseV1-conversion_nwb/test/nwb_stub/{session_id}/{session_id}-{epoch_name}.nwb\"\n",
    "io = NWBHDF5IO(path=nwbfile_path, mode=\"r\", load_namespaces=True)\n",
    "nwbfile = io.read()\n",
    "\n",
    "nwbfile"
   ]
  },
  {
   "cell_type": "markdown",
   "id": "8b25d9c7-83c0-4992-8bb5-2548f08bb28a",
   "metadata": {},
   "source": [
    "Importantly, the `session start time` is the reference time for all timestamps in the file. For instance, an event with a timestamp of 0 in the file means the event occurred exactly at the session start time.\n",
    "\n",
    "The `session_start_time` is extracted from the ScanImage metadata (`epoch`) of the first .tiff of the epoch."
   ]
  },
  {
   "cell_type": "code",
   "execution_count": null,
   "id": "52016578-44c1-4a75-b615-ec85d8463c4a",
   "metadata": {},
   "outputs": [],
   "source": [
    "nwbfile.session_start_time"
   ]
  },
  {
   "cell_type": "markdown",
   "id": "8d247090-5cfb-47b1-a1a4-8a7c87921a38",
   "metadata": {},
   "source": [
    "# Access subject metadata <a name=\"access-subject\"></a>\n",
    "\n",
    "This section demonstrates how to access the [Subject](https://pynwb.readthedocs.io/en/stable/pynwb.file.html#pynwb.file.Subject) field in an NWB file.\n",
    "\n",
    "The [Subject](https://pynwb.readthedocs.io/en/stable/pynwb.file.html#pynwb.file.Subject) field can be accessed as `nwbfile.subject`.\n"
   ]
  },
  {
   "cell_type": "code",
   "execution_count": null,
   "id": "483b9a74-c5f0-4f59-b422-1a3a7a9c5002",
   "metadata": {},
   "outputs": [],
   "source": [
    "nwbfile.subject"
   ]
  },
  {
   "cell_type": "markdown",
   "id": "fdc72048-3dc7-4b35-a411-e5507176ef35",
   "metadata": {},
   "source": [
    "# Access TwoPhoton Imaging <a name=\"access-imaging\"></a>\n",
    "\n",
    "This section demonstraces how to access the raw Two Photon imaging data.\n",
    "\n",
    "`NWB` organizes data into different groups depending on the type of data. Groups can be thought of as folders within the file. Here are some of the groups within an NWBFile and the types of data they are intended to store:\n",
    "\n",
    "- `acquisition`: raw, acquired data that should never change\n",
    "- `processing`: processed data, typically the results of preprocessing algorithms and could change\n",
    "\n",
    "## Raw TwoPhoton Imaging\n",
    "\n",
    "The raw TwoPhoton imaging data is stored in `pynwb.ophys.TwoPhotonSeries` objects (for each channel and plane separately) which is added to `nwbfile.acquisition`. The data can be accessed as `nwbfile.acquisition['TwoPhotonSeriesChannel_number_Plane_number_']`.\n",
    "\n",
    "The data in [TwoPhotonSeries](https://pynwb.readthedocs.io/en/stable/pynwb.ophys.html#pynwb.ophys.TwoPhotonSeries) is stored as a three dimensional array: the first dimension is time (frame), the second and third dimensions represent x and y (width by height). "
   ]
  },
  {
   "cell_type": "code",
   "execution_count": null,
   "id": "7f95b465",
   "metadata": {},
   "outputs": [],
   "source": [
    "names_of_photon_series = nwbfile.acquisition.keys()\n",
    "_ = [print(name) for name in names_of_photon_series]"
   ]
  },
  {
   "cell_type": "code",
   "execution_count": null,
   "id": "eb243ecc",
   "metadata": {},
   "outputs": [],
   "source": [
    "channel_plane_combination = \"Channel1Plane0\""
   ]
  },
  {
   "cell_type": "code",
   "execution_count": null,
   "id": "e9621b78-2c39-49fa-8106-d3e277252468",
   "metadata": {},
   "outputs": [],
   "source": [
    "photon_series = nwbfile.acquisition[f\"TwoPhotonSeries{channel_plane_combination}\"]"
   ]
  },
  {
   "cell_type": "code",
   "execution_count": null,
   "id": "1ef00fe3-cb56-4efe-89bb-946bb9bc42b5",
   "metadata": {},
   "outputs": [],
   "source": [
    "# Visualize the imaging data.\n",
    "\n",
    "from matplotlib import pyplot as plt\n",
    "\n",
    "plt.imshow(photon_series.data[50].T, aspect=\"auto\", cmap=\"RdYlBu_r\")\n",
    "plt.title(\"TwoPhotonSeries\")\n",
    "plt.show()\n"
   ]
  },
  {
   "cell_type": "code",
   "execution_count": null,
   "id": "19879672-07e2-443c-ac36-3952200eb33f",
   "metadata": {},
   "outputs": [],
   "source": [
    "photon_series.rate"
   ]
  },
  {
   "cell_type": "code",
   "execution_count": null,
   "id": "0d4a7ee2-4064-4025-9bf4-03e4de6b9b28",
   "metadata": {},
   "outputs": [],
   "source": [
    "photon_series.starting_time"
   ]
  },
  {
   "cell_type": "markdown",
   "id": "087d0ef1-a474-48fc-9106-3a80a188834a",
   "metadata": {},
   "source": [
    "## Accessing the segmentation data\n",
    "\n",
    "The segmentation output for the Two Photon Imaging data is stored in `nwbfile.processing[\"ophys\"]`. \n",
    "\n",
    "In NWB, the [PlaneSegmentation](https://pynwb.readthedocs.io/en/stable/pynwb.ophys.html#pynwb.ophys.PlaneSegmentation) class stores the detected regions of interest in the [TwoPhotonSeries](https://pynwb.readthedocs.io/en/stable/pynwb.ophys.html#pynwb.ophys.TwoPhotonSeries) data. The [ImageSegmentation](https://pynwb.readthedocs.io/en/stable/pynwb.ophys.html#pynwb.ophys.ImageSegmentation) can contain multiple `PlaneSegmentation` tables, so that we can store results of different segmentation algorithms or different segmentation classes.\n",
    "\n",
    "We can access the plane segmentation for the [TwoPhotonSeries](https://pynwb.readthedocs.io/en/stable/pynwb.ophys.html#pynwb.ophys.TwoPhotonSeries) data as \n",
    "`nwbfile.processing[\"ophys\"][\"ImageSegmentation\"][\"PlaneSegmentationChannel_number_Plane_number_\"]`.\n"
   ]
  },
  {
   "cell_type": "code",
   "execution_count": null,
   "id": "97233187",
   "metadata": {},
   "outputs": [],
   "source": [
    "names_of_plane_segmentation = nwbfile.processing[\"ophys\"][\"ImageSegmentation\"].plane_segmentations.keys()\n",
    "_ = [print(name) for name in names_of_plane_segmentation]"
   ]
  },
  {
   "cell_type": "code",
   "execution_count": null,
   "id": "f0618a5c-85c1-4a22-b80e-c8dff5942800",
   "metadata": {},
   "outputs": [],
   "source": [
    "plane_segmentation = nwbfile.processing[\"ophys\"][\"ImageSegmentation\"][f\"PlaneSegmentation{channel_plane_combination}\"][:]\n",
    "plane_segmentation[:10]"
   ]
  },
  {
   "cell_type": "code",
   "execution_count": null,
   "id": "414b0b77-2aa5-4994-a081-6f1375b04e74",
   "metadata": {},
   "outputs": [],
   "source": [
    "plt.imshow(photon_series.data[50].T, aspect=\"auto\", cmap=\"RdYlBu_r\")\n",
    "plt.title(\"TwoPhotonSeries\")\n",
    "plt.show()\n",
    "\n",
    "plt.imshow(plane_segmentation.image_mask[1].T, aspect=\"auto\", cmap=\"RdYlBu_r\")\n",
    "plt.title(\"Image mask (single ROI)\")\n",
    "plt.show()\n"
   ]
  },
  {
   "cell_type": "markdown",
   "id": "da4faa4c-9d0f-473d-b441-4f5e1fef2bb2",
   "metadata": {},
   "source": [
    "The summary images of the segmentation are stored in [Images](https://pynwb.readthedocs.io/en/stable/pynwb.base.html#pynwb.base.Images) container in NWB. \n"
   ]
  },
  {
   "cell_type": "code",
   "execution_count": null,
   "id": "e4974b7a-c2e5-4e75-b19c-1bc3d13ad27a",
   "metadata": {},
   "outputs": [],
   "source": [
    "images = nwbfile.processing[\"ophys\"][\"SegmentationImages\"]\n",
    "images"
   ]
  },
  {
   "cell_type": "code",
   "execution_count": null,
   "id": "4e7e3f92-8c66-4108-b1d6-930bfb3a6ae1",
   "metadata": {},
   "outputs": [],
   "source": [
    "plt.imshow(photon_series.data[50].T, cmap=\"RdYlBu_r\")\n",
    "plt.title(\"TwoPhotonSeries\")\n",
    "plt.show()\n",
    "\n",
    "plt.imshow(images.images[f\"CorrelationImage{channel_plane_combination}\"].data[:].T, cmap=\"RdYlBu_r\")\n",
    "plt.title(\"Image Correlation\")\n",
    "plt.show()\n",
    "\n",
    "plt.imshow(images.images[f\"MeanImage{channel_plane_combination}\"].data[:].T, cmap=\"RdYlBu_r\")\n",
    "plt.title(\"Image mean\")\n",
    "plt.show()"
   ]
  },
  {
   "cell_type": "markdown",
   "id": "8585d0c9-cd9a-45d4-8b6a-6cc6d91f8acc",
   "metadata": {},
   "source": [
    "The fluroscence traces are stored in a [Fluorescence](https://pynwb.readthedocs.io/en/stable/pynwb.ophys.html#pynwb.ophys.Fluorescence) container, the raw traces can be accessed as `nwbfile.processing[\"ophys\"][\"Fluorescence\"][\"RoiResponseSeries\"]`."
   ]
  },
  {
   "cell_type": "code",
   "execution_count": null,
   "id": "668464e8-da9d-4a0a-9f47-5030b4f5e053",
   "metadata": {},
   "outputs": [],
   "source": [
    "nwbfile.processing[\"ophys\"][\"Fluorescence\"].roi_response_series"
   ]
  },
  {
   "cell_type": "markdown",
   "id": "291ad594-cced-46c1-80aa-3c3c13cc9d7c",
   "metadata": {},
   "source": [
    "## Visualize raw traces"
   ]
  },
  {
   "cell_type": "code",
   "execution_count": null,
   "id": "a24dc36b-a2e5-43d1-989e-f18735c4afaa",
   "metadata": {},
   "outputs": [],
   "source": [
    "import pandas as pd\n",
    "import numpy as np\n",
    "import warnings\n",
    "warnings.simplefilter(action='ignore', category=pd.errors.PerformanceWarning)\n",
    "\n",
    "data = nwbfile.processing[\"ophys\"][\"Fluorescence\"][f\"RoiResponseSeries{channel_plane_combination}\"].data[:, :10]\n",
    "rate = nwbfile.processing[\"ophys\"][\"Fluorescence\"][f\"RoiResponseSeries{channel_plane_combination}\"].rate\n",
    "df = pd.DataFrame(data)\n",
    "df[\"time\"] = np.linspace(0, data.shape[0]*rate,data.shape[0])\n",
    "df.set_index(\"time\", inplace=True)\n",
    "df.columns.name = 'ROIs'\n",
    "\n",
    "import plotly.express as px\n",
    "\n",
    "fig = px.line(df, facet_row=\"ROIs\", facet_row_spacing=0.01)\n",
    "\n",
    "# hide and lock down axes\n",
    "fig.update_xaxes(visible=True, fixedrange=False)\n",
    "fig.update_yaxes(visible=False, fixedrange=False)\n",
    "\n",
    "# remove facet/subplot labels\n",
    "fig.update_layout(annotations=[], overwrite=True)\n",
    "\n",
    "# strip down the rest of the plot\n",
    "fig.update_layout(\n",
    "    showlegend=True,\n",
    "    plot_bgcolor=\"white\",\n",
    "    margin=dict(t=10, l=10, b=10, r=10)\n",
    ")\n",
    "\n",
    "fig.show(config=dict(displayModeBar=True))"
   ]
  },
  {
   "cell_type": "code",
   "execution_count": null,
   "id": "773f4667",
   "metadata": {},
   "outputs": [],
   "source": [
    "roi_index = 10\n",
    "if plane_segmentation[\"Accepted\"].values[roi_index]:\n",
    "    description = \"(accepted)\"\n",
    "else:\n",
    "    description = \"(rejected)\"\n",
    "\n",
    "import matplotlib.pyplot as plt\n",
    "\n",
    "fig = plt.figure(figsize=(20,5))\n",
    "data_roi_trace = nwbfile.processing[\"ophys\"][\"Fluorescence\"][f\"RoiResponseSeries{channel_plane_combination}\"].data[:, roi_index]\n",
    "data_neuropil_trace = nwbfile.processing[\"ophys\"][\"Fluorescence\"][f\"Neuropil{channel_plane_combination}\"].data[:, roi_index]\n",
    "rate = nwbfile.processing[\"ophys\"][\"Fluorescence\"][f\"RoiResponseSeries{channel_plane_combination}\"].rate\n",
    "time = np.linspace(0, data.shape[0]*rate,data.shape[0])\n",
    "plt.plot(time, data_roi_trace, label=\"activity\")\n",
    "plt.plot(time, data_neuropil_trace, label=\"neuropil\")\n",
    "plt.xlabel(\"Time (s)\")\n",
    "plt.ylabel(\"Df/f\")\n",
    "plt.title(f\"ROI {roi_index} {description}\")\n",
    "plt.legend()\n"
   ]
  },
  {
   "cell_type": "markdown",
   "id": "ce538054-666b-4ad1-9d34-f9730973b3ff",
   "metadata": {},
   "source": [
    "# Access Holographic Stimulus <a name=\"access-holostim\"></a>\n",
    "\n",
    "This section demonstrates how to access the holographic stimulation data and metadata.\n",
    "\n",
    "The metadata about the stimulus pattern can be accessed as `nwbfile.lab_meta_data[\"TemporalFocusing\"]`."
   ]
  },
  {
   "cell_type": "code",
   "execution_count": null,
   "id": "6c899439-be9f-4187-bc02-b6c9cb2491c3",
   "metadata": {},
   "outputs": [],
   "source": [
    "nwbfile.lab_meta_data[\"TemporalFocusing\"]"
   ]
  },
  {
   "cell_type": "markdown",
   "id": "478da453-ee24-467f-a1d3-a8202fb413d7",
   "metadata": {},
   "source": [
    "The metadata about the laser and the spatial light modulator can be accessed as `nwbfile.devices[\"LightSource\"]` and `nwbfile.devices[\"SpatialLightModulator2D\"]`. "
   ]
  },
  {
   "cell_type": "code",
   "execution_count": null,
   "id": "892f3c53-df9d-4c65-ba21-4bf4836c9eef",
   "metadata": {},
   "outputs": [],
   "source": [
    "nwbfile.devices[\"LightSource\"]"
   ]
  },
  {
   "cell_type": "code",
   "execution_count": null,
   "id": "f8dbeba5-e2a4-4624-8498-7c230370d104",
   "metadata": {},
   "outputs": [],
   "source": [
    "nwbfile.devices[\"SpatialLightModulator2D\"]"
   ]
  },
  {
   "cell_type": "markdown",
   "id": "b3e60ac8",
   "metadata": {},
   "source": [
    "The metadata about the optogenetic stimulus site can be accessed as `nwbfile.devices[\"OptogeneticStimulusSite\"]"
   ]
  },
  {
   "cell_type": "code",
   "execution_count": null,
   "id": "cb45aa71",
   "metadata": {},
   "outputs": [],
   "source": [
    "nwbfile.ogen_sites[\"OptogeneticStimulusSite\"]"
   ]
  },
  {
   "cell_type": "markdown",
   "id": "e64bf17a",
   "metadata": {},
   "source": [
    "The holograms are defined in `nwbfile.lab_meta_data`, and can be accessed by their name: `Hologram_number_`"
   ]
  },
  {
   "cell_type": "code",
   "execution_count": null,
   "id": "2c21230c",
   "metadata": {},
   "outputs": [],
   "source": [
    "for object in nwbfile.lab_meta_data:\n",
    "    if object.startswith(\"Hologram\"):\n",
    "        print(object)"
   ]
  },
  {
   "cell_type": "code",
   "execution_count": null,
   "id": "61c95a6e",
   "metadata": {},
   "outputs": [],
   "source": [
    "nwbfile.lab_meta_data[\"Hologram0\"].targeted_rois[:]\n"
   ]
  },
  {
   "cell_type": "code",
   "execution_count": null,
   "id": "f3276461",
   "metadata": {},
   "outputs": [],
   "source": [
    "nwbfile.lab_meta_data[\"Hologram0\"].segmented_rois[:]\n"
   ]
  },
  {
   "cell_type": "markdown",
   "id": "1b9f73e5",
   "metadata": {},
   "source": [
    "Visualize targeted (in red) and corresponding segmented (in yellow) ROIs on the respective plane (background images are the maximum projection for each plane)"
   ]
  },
  {
   "cell_type": "code",
   "execution_count": null,
   "id": "1917978a",
   "metadata": {},
   "outputs": [],
   "source": [
    "fig, (ax0, ax1, ax2) = plt.subplots(1, 3, figsize=(20, 15))\n",
    "hologram = \"Hologram4\"\n",
    "# Maximum projection here is used as background\n",
    "import numpy as np\n",
    "photon_series = nwbfile.acquisition[f\"TwoPhotonSeriesChannel1Plane0\"]\n",
    "background_plane0 = np.sum(photon_series.data[:,:,:], axis=0)\n",
    "photon_series = nwbfile.acquisition[f\"TwoPhotonSeriesChannel1Plane1\"]\n",
    "background_plane1 = np.sum(photon_series.data[:,:,:], axis=0)\n",
    "photon_series = nwbfile.acquisition[f\"TwoPhotonSeriesChannel1Plane2\"]\n",
    "background_plane2 = np.sum(photon_series.data[:,:,:], axis=0)\n",
    "\n",
    "ax0.imshow(background_plane0.T, cmap=\"grey\")\n",
    "ax0.set_title(\"Plane0\")\n",
    "ax1.imshow(background_plane1.T, cmap=\"grey\")\n",
    "ax1.set_title(\"Plane1\")\n",
    "ax2.imshow(background_plane2.T, cmap=\"grey\")\n",
    "ax2.set_title(\"Plane2\")\n",
    "for roi in nwbfile.lab_meta_data[hologram].targeted_rois[:][\"voxel_mask\"]:\n",
    "    X = roi[0][0]\n",
    "    Y = roi[0][1]\n",
    "    Z = roi[0][2]\n",
    "    if Z == 0:\n",
    "        ax0.scatter(X,Y,s=9,c=\"red\",marker='*')\n",
    "    if Z == 34:\n",
    "        ax1.scatter(X,Y,s=9,c=\"red\",marker='*')\n",
    "    if Z == 60:\n",
    "        ax2.scatter(X,Y,s=9,c=\"red\",marker='*')\n",
    "\n",
    "for roi in nwbfile.lab_meta_data[hologram].segmented_rois[:][\"voxel_mask\"]:\n",
    "    X = roi[0][0]\n",
    "    Y = roi[0][1]\n",
    "    Z = roi[0][2]\n",
    "    if Z == 0:\n",
    "        ax0.scatter(X,Y,s=13,c=\"yellow\",marker='o', alpha=0.5)\n",
    "    if Z == 1:\n",
    "        ax1.scatter(X,Y,s=13,c=\"yellow\",marker='o', alpha=0.5)\n",
    "    if Z == 2:\n",
    "        ax2.scatter(X,Y,s=13,c=\"yellow\",marker='o', alpha=0.5)    \n",
    "\n",
    "fig.show()\n"
   ]
  },
  {
   "cell_type": "markdown",
   "id": "ac38a9d5-a343-4800-96e1-9944556e2b62",
   "metadata": {},
   "source": [
    "The holographic stimulation data is added to `nwbfile.intervals['PatternedOptogeneticStimulusTable']`. "
   ]
  },
  {
   "cell_type": "code",
   "execution_count": null,
   "id": "abe7d566-718f-4493-bb3d-2ac0da7e15c4",
   "metadata": {},
   "outputs": [],
   "source": [
    "stimulus_table = nwbfile.intervals['PatternedOptogeneticStimulusTable']\n",
    "stimulus_table[:5]"
   ]
  },
  {
   "cell_type": "markdown",
   "id": "eb050663",
   "metadata": {},
   "source": [
    "Visualize stimulus on set for a the targeted ROIs in `Hologram0`"
   ]
  },
  {
   "cell_type": "code",
   "execution_count": null,
   "id": "3f232537",
   "metadata": {},
   "outputs": [],
   "source": [
    "hologram = nwbfile.lab_meta_data[\"Hologram0\"]\n",
    "stimulus_table_df = stimulus_table.to_dataframe()\n",
    "fig, ax = plt.subplots()\n",
    "for i in stimulus_table_df.index[stimulus_table_df[\"targets\"] == hologram][:10]:\n",
    "    start_time = stimulus_table[\"start_time\"][i]\n",
    "    stop_time = stimulus_table[\"stop_time\"][i]\n",
    "    frequency = stimulus_table[\"frequency\"][i]\n",
    "    power = stimulus_table[\"power_per_roi\"][i]\n",
    "    for roi, p in zip(np.arange(len(hologram.targeted_rois)), power):\n",
    "        ax.hlines(y=roi, xmin=start_time, xmax=stop_time, linewidth=p * 100)\n",
    "    plt.yticks(np.arange(len(hologram.targeted_rois)), list(hologram.targeted_rois[:][\"global_ids\"]))\n",
    "    plt.ylabel(\"Global IDs for targeted rois\")\n",
    "    plt.xlabel(\"Time\")\n",
    "    plt.grid(visible=True)"
   ]
  },
  {
   "cell_type": "markdown",
   "id": "b50a377e",
   "metadata": {},
   "source": [
    "# Access Visual Stimulus <a name=\"access-visualstim\"></a>\n",
    "\n",
    "This section demonstrates how to access the visual stimulus data."
   ]
  },
  {
   "cell_type": "code",
   "execution_count": null,
   "id": "362ba78b",
   "metadata": {},
   "outputs": [],
   "source": [
    "#need to open a epoch that contains visual stimulus \n",
    "epoch_name = \"4ori\"\n",
    "# The file path to a .nwb file\n",
    "nwbfile_path = f\"/media/amtra/Samsung_T5/CN_data/MouseV1-conversion_nwb/nwb_stub/{session_id}/{session_id}-{epoch_name}.nwb\"\n",
    "io = NWBHDF5IO(path=nwbfile_path, mode=\"r\", load_namespaces=True)\n",
    "nwbfile = io.read()"
   ]
  },
  {
   "cell_type": "code",
   "execution_count": null,
   "id": "ce2b8da7",
   "metadata": {},
   "outputs": [],
   "source": [
    "nwbfile.intervals[\"VisualStimuli\"]"
   ]
  }
 ],
 "metadata": {
  "kernelspec": {
   "display_name": "Python 3 (ipykernel)",
   "language": "python",
   "name": "python3"
  },
  "language_info": {
   "codemirror_mode": {
    "name": "ipython",
    "version": 3
   },
   "file_extension": ".py",
   "mimetype": "text/x-python",
   "name": "python",
   "nbconvert_exporter": "python",
   "pygments_lexer": "ipython3",
   "version": "3.10.12"
  }
 },
 "nbformat": 4,
 "nbformat_minor": 5
}
